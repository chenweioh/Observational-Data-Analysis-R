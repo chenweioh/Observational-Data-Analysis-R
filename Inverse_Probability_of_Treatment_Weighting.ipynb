{
  "nbformat": 4,
  "nbformat_minor": 0,
  "metadata": {
    "colab": {
      "provenance": [],
      "authorship_tag": "ABX9TyOfixHHy2W8OZHIJGVDXG0b",
      "include_colab_link": true
    },
    "kernelspec": {
      "name": "ir",
      "display_name": "R"
    },
    "language_info": {
      "name": "R"
    }
  },
  "cells": [
    {
      "cell_type": "markdown",
      "metadata": {
        "id": "view-in-github",
        "colab_type": "text"
      },
      "source": [
        "<a href=\"https://colab.research.google.com/github/chenweioh/Observational-Data-Analysis-R/blob/main/Inverse_Probability_of_Treatment_Weighting.ipynb\" target=\"_parent\"><img src=\"https://colab.research.google.com/assets/colab-badge.svg\" alt=\"Open In Colab\"/></a>"
      ]
    },
    {
      "cell_type": "markdown",
      "source": [
        "# Using Inverse Probability Weighting (IPW) and Marginal Structural Models (MSMs) for Causal Inference: A Practice\n",
        "\n",
        "Running this cell will display the first few rows of the dataset rhc, allowing you to confirm that the data has been loaded successfully.\n",
        "\n",
        "# Explanation of the Code\n",
        "* Installing Packages: The if (!requireNamespace(\"package_name\", quietly = TRUE))\n",
        "install.packages(\"package_name\") checks if each package is installed, and if not, installs it. This is useful for Colab, where packages may not be pre-installed.\n",
        "* Loading Data: The load(url(...)) function reads the data directly from the provided URL.\n",
        "* Previewing Data: head(rhc) displays the first few rows of the data, as View() is not available in Colab."
      ],
      "metadata": {
        "id": "inz06fsPAwEX"
      }
    },
    {
      "cell_type": "code",
      "execution_count": 64,
      "metadata": {
        "colab": {
          "base_uri": "https://localhost:8080/",
          "height": 286
        },
        "id": "wcc4Ikig-eWx",
        "outputId": "b49bcf68-a5e1-4c82-dda0-d3bcce513acd"
      },
      "outputs": [
        {
          "output_type": "display_data",
          "data": {
            "text/html": [
              "<table class=\"dataframe\">\n",
              "<caption>A data.frame: 6 × 62</caption>\n",
              "<thead>\n",
              "\t<tr><th></th><th scope=col>cat1</th><th scope=col>cat2</th><th scope=col>ca</th><th scope=col>sadmdte</th><th scope=col>dschdte</th><th scope=col>dthdte</th><th scope=col>lstctdte</th><th scope=col>death</th><th scope=col>cardiohx</th><th scope=col>chfhx</th><th scope=col>⋯</th><th scope=col>meta</th><th scope=col>hema</th><th scope=col>seps</th><th scope=col>trauma</th><th scope=col>ortho</th><th scope=col>adld3p</th><th scope=col>urin1</th><th scope=col>race</th><th scope=col>income</th><th scope=col>ptid</th></tr>\n",
              "\t<tr><th></th><th scope=col>&lt;fct&gt;</th><th scope=col>&lt;fct&gt;</th><th scope=col>&lt;fct&gt;</th><th scope=col>&lt;dbl&gt;</th><th scope=col>&lt;dbl&gt;</th><th scope=col>&lt;dbl&gt;</th><th scope=col>&lt;dbl&gt;</th><th scope=col>&lt;fct&gt;</th><th scope=col>&lt;int&gt;</th><th scope=col>&lt;int&gt;</th><th scope=col>⋯</th><th scope=col>&lt;fct&gt;</th><th scope=col>&lt;fct&gt;</th><th scope=col>&lt;fct&gt;</th><th scope=col>&lt;fct&gt;</th><th scope=col>&lt;fct&gt;</th><th scope=col>&lt;int&gt;</th><th scope=col>&lt;dbl&gt;</th><th scope=col>&lt;fct&gt;</th><th scope=col>&lt;fct&gt;</th><th scope=col>&lt;chr&gt;</th></tr>\n",
              "</thead>\n",
              "<tbody>\n",
              "\t<tr><th scope=row>1</th><td>COPD             </td><td>NA           </td><td>Yes</td><td>11142</td><td>11151</td><td>   NA</td><td>11382</td><td>No </td><td>0</td><td>0</td><td>⋯</td><td>No</td><td>No</td><td>No </td><td>No</td><td>No</td><td> 0</td><td>  NA</td><td>white</td><td>Under $11k</td><td>00005</td></tr>\n",
              "\t<tr><th scope=row>2</th><td>MOSF w/Sepsis    </td><td>NA           </td><td>No </td><td>11799</td><td>11844</td><td>11844</td><td>11844</td><td>Yes</td><td>1</td><td>1</td><td>⋯</td><td>No</td><td>No</td><td>Yes</td><td>No</td><td>No</td><td>NA</td><td>1437</td><td>white</td><td>Under $11k</td><td>00007</td></tr>\n",
              "\t<tr><th scope=row>3</th><td>MOSF w/Malignancy</td><td>MOSF w/Sepsis</td><td>Yes</td><td>12083</td><td>12143</td><td>   NA</td><td>12400</td><td>No </td><td>0</td><td>0</td><td>⋯</td><td>No</td><td>No</td><td>No </td><td>No</td><td>No</td><td>NA</td><td> 599</td><td>white</td><td>$25-$50k  </td><td>00009</td></tr>\n",
              "\t<tr><th scope=row>4</th><td>ARF              </td><td>NA           </td><td>No </td><td>11146</td><td>11183</td><td>11183</td><td>11182</td><td>Yes</td><td>0</td><td>0</td><td>⋯</td><td>No</td><td>No</td><td>No </td><td>No</td><td>No</td><td>NA</td><td>  NA</td><td>white</td><td>$11-$25k  </td><td>00010</td></tr>\n",
              "\t<tr><th scope=row>5</th><td>MOSF w/Sepsis    </td><td>NA           </td><td>No </td><td>12035</td><td>12037</td><td>12037</td><td>12036</td><td>Yes</td><td>0</td><td>0</td><td>⋯</td><td>No</td><td>No</td><td>No </td><td>No</td><td>No</td><td>NA</td><td>  64</td><td>white</td><td>Under $11k</td><td>00011</td></tr>\n",
              "\t<tr><th scope=row>6</th><td>COPD             </td><td>NA           </td><td>No </td><td>12389</td><td>12396</td><td>   NA</td><td>12590</td><td>No </td><td>0</td><td>1</td><td>⋯</td><td>No</td><td>No</td><td>No </td><td>No</td><td>No</td><td> 0</td><td> 242</td><td>white</td><td>Under $11k</td><td>00012</td></tr>\n",
              "</tbody>\n",
              "</table>\n"
            ],
            "text/markdown": "\nA data.frame: 6 × 62\n\n| <!--/--> | cat1 &lt;fct&gt; | cat2 &lt;fct&gt; | ca &lt;fct&gt; | sadmdte &lt;dbl&gt; | dschdte &lt;dbl&gt; | dthdte &lt;dbl&gt; | lstctdte &lt;dbl&gt; | death &lt;fct&gt; | cardiohx &lt;int&gt; | chfhx &lt;int&gt; | ⋯ ⋯ | meta &lt;fct&gt; | hema &lt;fct&gt; | seps &lt;fct&gt; | trauma &lt;fct&gt; | ortho &lt;fct&gt; | adld3p &lt;int&gt; | urin1 &lt;dbl&gt; | race &lt;fct&gt; | income &lt;fct&gt; | ptid &lt;chr&gt; |\n|---|---|---|---|---|---|---|---|---|---|---|---|---|---|---|---|---|---|---|---|---|---|\n| 1 | COPD              | NA            | Yes | 11142 | 11151 |    NA | 11382 | No  | 0 | 0 | ⋯ | No | No | No  | No | No |  0 |   NA | white | Under $11k | 00005 |\n| 2 | MOSF w/Sepsis     | NA            | No  | 11799 | 11844 | 11844 | 11844 | Yes | 1 | 1 | ⋯ | No | No | Yes | No | No | NA | 1437 | white | Under $11k | 00007 |\n| 3 | MOSF w/Malignancy | MOSF w/Sepsis | Yes | 12083 | 12143 |    NA | 12400 | No  | 0 | 0 | ⋯ | No | No | No  | No | No | NA |  599 | white | $25-$50k   | 00009 |\n| 4 | ARF               | NA            | No  | 11146 | 11183 | 11183 | 11182 | Yes | 0 | 0 | ⋯ | No | No | No  | No | No | NA |   NA | white | $11-$25k   | 00010 |\n| 5 | MOSF w/Sepsis     | NA            | No  | 12035 | 12037 | 12037 | 12036 | Yes | 0 | 0 | ⋯ | No | No | No  | No | No | NA |   64 | white | Under $11k | 00011 |\n| 6 | COPD              | NA            | No  | 12389 | 12396 |    NA | 12590 | No  | 0 | 1 | ⋯ | No | No | No  | No | No |  0 |  242 | white | Under $11k | 00012 |\n\n",
            "text/latex": "A data.frame: 6 × 62\n\\begin{tabular}{r|lllllllllllllllllllll}\n  & cat1 & cat2 & ca & sadmdte & dschdte & dthdte & lstctdte & death & cardiohx & chfhx & ⋯ & meta & hema & seps & trauma & ortho & adld3p & urin1 & race & income & ptid\\\\\n  & <fct> & <fct> & <fct> & <dbl> & <dbl> & <dbl> & <dbl> & <fct> & <int> & <int> & ⋯ & <fct> & <fct> & <fct> & <fct> & <fct> & <int> & <dbl> & <fct> & <fct> & <chr>\\\\\n\\hline\n\t1 & COPD              & NA            & Yes & 11142 & 11151 &    NA & 11382 & No  & 0 & 0 & ⋯ & No & No & No  & No & No &  0 &   NA & white & Under \\$11k & 00005\\\\\n\t2 & MOSF w/Sepsis     & NA            & No  & 11799 & 11844 & 11844 & 11844 & Yes & 1 & 1 & ⋯ & No & No & Yes & No & No & NA & 1437 & white & Under \\$11k & 00007\\\\\n\t3 & MOSF w/Malignancy & MOSF w/Sepsis & Yes & 12083 & 12143 &    NA & 12400 & No  & 0 & 0 & ⋯ & No & No & No  & No & No & NA &  599 & white & \\$25-\\$50k   & 00009\\\\\n\t4 & ARF               & NA            & No  & 11146 & 11183 & 11183 & 11182 & Yes & 0 & 0 & ⋯ & No & No & No  & No & No & NA &   NA & white & \\$11-\\$25k   & 00010\\\\\n\t5 & MOSF w/Sepsis     & NA            & No  & 12035 & 12037 & 12037 & 12036 & Yes & 0 & 0 & ⋯ & No & No & No  & No & No & NA &   64 & white & Under \\$11k & 00011\\\\\n\t6 & COPD              & NA            & No  & 12389 & 12396 &    NA & 12590 & No  & 0 & 1 & ⋯ & No & No & No  & No & No &  0 &  242 & white & Under \\$11k & 00012\\\\\n\\end{tabular}\n",
            "text/plain": [
              "  cat1              cat2          ca  sadmdte dschdte dthdte lstctdte death\n",
              "1 COPD              NA            Yes 11142   11151      NA  11382    No   \n",
              "2 MOSF w/Sepsis     NA            No  11799   11844   11844  11844    Yes  \n",
              "3 MOSF w/Malignancy MOSF w/Sepsis Yes 12083   12143      NA  12400    No   \n",
              "4 ARF               NA            No  11146   11183   11183  11182    Yes  \n",
              "5 MOSF w/Sepsis     NA            No  12035   12037   12037  12036    Yes  \n",
              "6 COPD              NA            No  12389   12396      NA  12590    No   \n",
              "  cardiohx chfhx ⋯ meta hema seps trauma ortho adld3p urin1 race  income    \n",
              "1 0        0     ⋯ No   No   No   No     No     0       NA  white Under $11k\n",
              "2 1        1     ⋯ No   No   Yes  No     No    NA     1437  white Under $11k\n",
              "3 0        0     ⋯ No   No   No   No     No    NA      599  white $25-$50k  \n",
              "4 0        0     ⋯ No   No   No   No     No    NA       NA  white $11-$25k  \n",
              "5 0        0     ⋯ No   No   No   No     No    NA       64  white Under $11k\n",
              "6 0        1     ⋯ No   No   No   No     No     0      242  white Under $11k\n",
              "  ptid \n",
              "1 00005\n",
              "2 00007\n",
              "3 00009\n",
              "4 00010\n",
              "5 00011\n",
              "6 00012"
            ]
          },
          "metadata": {}
        }
      ],
      "source": [
        "# Install necessary packages if not already installed\n",
        "if (!requireNamespace(\"tableone\", quietly = TRUE)) install.packages(\"tableone\")\n",
        "if (!requireNamespace(\"ipw\", quietly = TRUE)) install.packages(\"ipw\")\n",
        "if (!requireNamespace(\"sandwich\", quietly = TRUE)) install.packages(\"sandwich\")\n",
        "if (!requireNamespace(\"survey\", quietly = TRUE)) install.packages(\"survey\")\n",
        "\n",
        "# Load the packages\n",
        "library(tableone)\n",
        "library(ipw)\n",
        "library(sandwich)  # for robust variance estimation\n",
        "library(survey)\n",
        "\n",
        "# Read in the data\n",
        "load(url(\"https://hbiostat.org/data/repo/rhc.sav\"))\n",
        "\n",
        "# Display the first few rows of the data as a preview\n",
        "head(rhc)\n"
      ]
    },
    {
      "cell_type": "code",
      "source": [
        "# Create each variable and confirm it works as expected\n",
        "# Convert specific categorical variables to numeric (binary) values\n",
        "ARF <- as.numeric(rhc$cat1 == \"ARF\")\n",
        "CHF <- as.numeric(rhc$cat1 == \"CHF\")\n",
        "Cirr <- as.numeric(rhc$cat1 == \"Cirrhosis\")\n",
        "colcan <- as.numeric(rhc$cat1 == \"Colon Cancer\")\n",
        "Coma <- as.numeric(rhc$cat1 == \"Coma\")\n",
        "COPD <- as.numeric(rhc$cat1 == \"COPD\")\n",
        "lungcan <- as.numeric(rhc$cat1 == \"Lung Cancer\")\n",
        "MOSF <- as.numeric(rhc$cat1 == \"MOSF w/Malignancy\")\n",
        "sepsis <- as.numeric(rhc$cat1 == \"MOSF w/Sepsis\")\n",
        "female <- as.numeric(rhc$sex == \"Female\")\n",
        "died <- as.numeric(rhc$death == \"Yes\")\n",
        "treatment <- as.numeric(rhc$swang1 == \"RHC\")\n",
        "\n",
        "# Directly assign other variables\n",
        "age <- rhc$age\n",
        "meanbp1 <- rhc$meanbp1\n",
        "aps <- rhc$aps1\n",
        "\n",
        "\n",
        "# After confirming each variable, combine them into a new data frame\n",
        "rhc_simplified <- data.frame(ARF, CHF, Cirr, colcan, Coma, COPD, lungcan, MOSF,\n",
        "                             sepsis, female, died, age, treatment, meanbp1, aps)\n",
        "\n",
        "# View the first few rows of the simplified dataset\n",
        "head(rhc_simplified)\n"
      ],
      "metadata": {
        "colab": {
          "base_uri": "https://localhost:8080/",
          "height": 286
        },
        "id": "SnBl8dey_PRT",
        "outputId": "5cb1db63-46f4-4026-c603-4b8363aaf7f5"
      },
      "execution_count": 65,
      "outputs": [
        {
          "output_type": "display_data",
          "data": {
            "text/html": [
              "<table class=\"dataframe\">\n",
              "<caption>A data.frame: 6 × 15</caption>\n",
              "<thead>\n",
              "\t<tr><th></th><th scope=col>ARF</th><th scope=col>CHF</th><th scope=col>Cirr</th><th scope=col>colcan</th><th scope=col>Coma</th><th scope=col>COPD</th><th scope=col>lungcan</th><th scope=col>MOSF</th><th scope=col>sepsis</th><th scope=col>female</th><th scope=col>died</th><th scope=col>age</th><th scope=col>treatment</th><th scope=col>meanbp1</th><th scope=col>aps</th></tr>\n",
              "\t<tr><th></th><th scope=col>&lt;dbl&gt;</th><th scope=col>&lt;dbl&gt;</th><th scope=col>&lt;dbl&gt;</th><th scope=col>&lt;dbl&gt;</th><th scope=col>&lt;dbl&gt;</th><th scope=col>&lt;dbl&gt;</th><th scope=col>&lt;dbl&gt;</th><th scope=col>&lt;dbl&gt;</th><th scope=col>&lt;dbl&gt;</th><th scope=col>&lt;dbl&gt;</th><th scope=col>&lt;dbl&gt;</th><th scope=col>&lt;dbl&gt;</th><th scope=col>&lt;dbl&gt;</th><th scope=col>&lt;dbl&gt;</th><th scope=col>&lt;int&gt;</th></tr>\n",
              "</thead>\n",
              "<tbody>\n",
              "\t<tr><th scope=row>1</th><td>0</td><td>0</td><td>0</td><td>0</td><td>0</td><td>1</td><td>0</td><td>0</td><td>0</td><td>0</td><td>0</td><td>70.25098</td><td>0</td><td> 41</td><td>46</td></tr>\n",
              "\t<tr><th scope=row>2</th><td>0</td><td>0</td><td>0</td><td>0</td><td>0</td><td>0</td><td>0</td><td>0</td><td>1</td><td>1</td><td>1</td><td>78.17896</td><td>1</td><td> 63</td><td>50</td></tr>\n",
              "\t<tr><th scope=row>3</th><td>0</td><td>0</td><td>0</td><td>0</td><td>0</td><td>0</td><td>0</td><td>1</td><td>0</td><td>1</td><td>0</td><td>46.09198</td><td>1</td><td> 57</td><td>82</td></tr>\n",
              "\t<tr><th scope=row>4</th><td>1</td><td>0</td><td>0</td><td>0</td><td>0</td><td>0</td><td>0</td><td>0</td><td>0</td><td>1</td><td>1</td><td>75.33197</td><td>0</td><td> 55</td><td>48</td></tr>\n",
              "\t<tr><th scope=row>5</th><td>0</td><td>0</td><td>0</td><td>0</td><td>0</td><td>0</td><td>0</td><td>0</td><td>1</td><td>0</td><td>1</td><td>67.90997</td><td>1</td><td> 65</td><td>72</td></tr>\n",
              "\t<tr><th scope=row>6</th><td>0</td><td>0</td><td>0</td><td>0</td><td>0</td><td>1</td><td>0</td><td>0</td><td>0</td><td>1</td><td>0</td><td>86.07794</td><td>0</td><td>115</td><td>38</td></tr>\n",
              "</tbody>\n",
              "</table>\n"
            ],
            "text/markdown": "\nA data.frame: 6 × 15\n\n| <!--/--> | ARF &lt;dbl&gt; | CHF &lt;dbl&gt; | Cirr &lt;dbl&gt; | colcan &lt;dbl&gt; | Coma &lt;dbl&gt; | COPD &lt;dbl&gt; | lungcan &lt;dbl&gt; | MOSF &lt;dbl&gt; | sepsis &lt;dbl&gt; | female &lt;dbl&gt; | died &lt;dbl&gt; | age &lt;dbl&gt; | treatment &lt;dbl&gt; | meanbp1 &lt;dbl&gt; | aps &lt;int&gt; |\n|---|---|---|---|---|---|---|---|---|---|---|---|---|---|---|---|\n| 1 | 0 | 0 | 0 | 0 | 0 | 1 | 0 | 0 | 0 | 0 | 0 | 70.25098 | 0 |  41 | 46 |\n| 2 | 0 | 0 | 0 | 0 | 0 | 0 | 0 | 0 | 1 | 1 | 1 | 78.17896 | 1 |  63 | 50 |\n| 3 | 0 | 0 | 0 | 0 | 0 | 0 | 0 | 1 | 0 | 1 | 0 | 46.09198 | 1 |  57 | 82 |\n| 4 | 1 | 0 | 0 | 0 | 0 | 0 | 0 | 0 | 0 | 1 | 1 | 75.33197 | 0 |  55 | 48 |\n| 5 | 0 | 0 | 0 | 0 | 0 | 0 | 0 | 0 | 1 | 0 | 1 | 67.90997 | 1 |  65 | 72 |\n| 6 | 0 | 0 | 0 | 0 | 0 | 1 | 0 | 0 | 0 | 1 | 0 | 86.07794 | 0 | 115 | 38 |\n\n",
            "text/latex": "A data.frame: 6 × 15\n\\begin{tabular}{r|lllllllllllllll}\n  & ARF & CHF & Cirr & colcan & Coma & COPD & lungcan & MOSF & sepsis & female & died & age & treatment & meanbp1 & aps\\\\\n  & <dbl> & <dbl> & <dbl> & <dbl> & <dbl> & <dbl> & <dbl> & <dbl> & <dbl> & <dbl> & <dbl> & <dbl> & <dbl> & <dbl> & <int>\\\\\n\\hline\n\t1 & 0 & 0 & 0 & 0 & 0 & 1 & 0 & 0 & 0 & 0 & 0 & 70.25098 & 0 &  41 & 46\\\\\n\t2 & 0 & 0 & 0 & 0 & 0 & 0 & 0 & 0 & 1 & 1 & 1 & 78.17896 & 1 &  63 & 50\\\\\n\t3 & 0 & 0 & 0 & 0 & 0 & 0 & 0 & 1 & 0 & 1 & 0 & 46.09198 & 1 &  57 & 82\\\\\n\t4 & 1 & 0 & 0 & 0 & 0 & 0 & 0 & 0 & 0 & 1 & 1 & 75.33197 & 0 &  55 & 48\\\\\n\t5 & 0 & 0 & 0 & 0 & 0 & 0 & 0 & 0 & 1 & 0 & 1 & 67.90997 & 1 &  65 & 72\\\\\n\t6 & 0 & 0 & 0 & 0 & 0 & 1 & 0 & 0 & 0 & 1 & 0 & 86.07794 & 0 & 115 & 38\\\\\n\\end{tabular}\n",
            "text/plain": [
              "  ARF CHF Cirr colcan Coma COPD lungcan MOSF sepsis female died age     \n",
              "1 0   0   0    0      0    1    0       0    0      0      0    70.25098\n",
              "2 0   0   0    0      0    0    0       0    1      1      1    78.17896\n",
              "3 0   0   0    0      0    0    0       1    0      1      0    46.09198\n",
              "4 1   0   0    0      0    0    0       0    0      1      1    75.33197\n",
              "5 0   0   0    0      0    0    0       0    1      0      1    67.90997\n",
              "6 0   0   0    0      0    1    0       0    0      1      0    86.07794\n",
              "  treatment meanbp1 aps\n",
              "1 0          41     46 \n",
              "2 1          63     50 \n",
              "3 1          57     82 \n",
              "4 0          55     48 \n",
              "5 1          65     72 \n",
              "6 0         115     38 "
            ]
          },
          "metadata": {}
        }
      ]
    },
    {
      "cell_type": "markdown",
      "source": [
        "#Explanation\n",
        "* cbind: Combines each individual variable (ARF, CHF, Cirr, etc.) into columns of a matrix. Each vector should have the same length (5735 rows).\n",
        "* data.frame(): Converts the resulting matrix into a data frame called mydata.\n",
        "* head(mydata): Displays the first few rows to check the final structure."
      ],
      "metadata": {
        "id": "-rIA55yMDca0"
      }
    },
    {
      "cell_type": "code",
      "source": [
        "# Create new dataset using cbind and then convert to data frame\n",
        "mydata <- cbind(ARF, CHF, Cirr, colcan, Coma, lungcan, MOSF, sepsis,\n",
        "                age, female, meanbp1, aps, treatment, died)\n",
        "mydata <- data.frame(mydata)\n",
        "\n",
        "# View the first few rows of the new dataset\n",
        "head(mydata)"
      ],
      "metadata": {
        "colab": {
          "base_uri": "https://localhost:8080/",
          "height": 286
        },
        "id": "fRQOPN5dDYrt",
        "outputId": "903cd1bb-cdcb-4859-84a8-ed516fe6558e"
      },
      "execution_count": 66,
      "outputs": [
        {
          "output_type": "display_data",
          "data": {
            "text/html": [
              "<table class=\"dataframe\">\n",
              "<caption>A data.frame: 6 × 14</caption>\n",
              "<thead>\n",
              "\t<tr><th></th><th scope=col>ARF</th><th scope=col>CHF</th><th scope=col>Cirr</th><th scope=col>colcan</th><th scope=col>Coma</th><th scope=col>lungcan</th><th scope=col>MOSF</th><th scope=col>sepsis</th><th scope=col>age</th><th scope=col>female</th><th scope=col>meanbp1</th><th scope=col>aps</th><th scope=col>treatment</th><th scope=col>died</th></tr>\n",
              "\t<tr><th></th><th scope=col>&lt;dbl&gt;</th><th scope=col>&lt;dbl&gt;</th><th scope=col>&lt;dbl&gt;</th><th scope=col>&lt;dbl&gt;</th><th scope=col>&lt;dbl&gt;</th><th scope=col>&lt;dbl&gt;</th><th scope=col>&lt;dbl&gt;</th><th scope=col>&lt;dbl&gt;</th><th scope=col>&lt;dbl&gt;</th><th scope=col>&lt;dbl&gt;</th><th scope=col>&lt;dbl&gt;</th><th scope=col>&lt;dbl&gt;</th><th scope=col>&lt;dbl&gt;</th><th scope=col>&lt;dbl&gt;</th></tr>\n",
              "</thead>\n",
              "<tbody>\n",
              "\t<tr><th scope=row>1</th><td>0</td><td>0</td><td>0</td><td>0</td><td>0</td><td>0</td><td>0</td><td>0</td><td>70.25098</td><td>0</td><td> 41</td><td>46</td><td>0</td><td>0</td></tr>\n",
              "\t<tr><th scope=row>2</th><td>0</td><td>0</td><td>0</td><td>0</td><td>0</td><td>0</td><td>0</td><td>1</td><td>78.17896</td><td>1</td><td> 63</td><td>50</td><td>1</td><td>1</td></tr>\n",
              "\t<tr><th scope=row>3</th><td>0</td><td>0</td><td>0</td><td>0</td><td>0</td><td>0</td><td>1</td><td>0</td><td>46.09198</td><td>1</td><td> 57</td><td>82</td><td>1</td><td>0</td></tr>\n",
              "\t<tr><th scope=row>4</th><td>1</td><td>0</td><td>0</td><td>0</td><td>0</td><td>0</td><td>0</td><td>0</td><td>75.33197</td><td>1</td><td> 55</td><td>48</td><td>0</td><td>1</td></tr>\n",
              "\t<tr><th scope=row>5</th><td>0</td><td>0</td><td>0</td><td>0</td><td>0</td><td>0</td><td>0</td><td>1</td><td>67.90997</td><td>0</td><td> 65</td><td>72</td><td>1</td><td>1</td></tr>\n",
              "\t<tr><th scope=row>6</th><td>0</td><td>0</td><td>0</td><td>0</td><td>0</td><td>0</td><td>0</td><td>0</td><td>86.07794</td><td>1</td><td>115</td><td>38</td><td>0</td><td>0</td></tr>\n",
              "</tbody>\n",
              "</table>\n"
            ],
            "text/markdown": "\nA data.frame: 6 × 14\n\n| <!--/--> | ARF &lt;dbl&gt; | CHF &lt;dbl&gt; | Cirr &lt;dbl&gt; | colcan &lt;dbl&gt; | Coma &lt;dbl&gt; | lungcan &lt;dbl&gt; | MOSF &lt;dbl&gt; | sepsis &lt;dbl&gt; | age &lt;dbl&gt; | female &lt;dbl&gt; | meanbp1 &lt;dbl&gt; | aps &lt;dbl&gt; | treatment &lt;dbl&gt; | died &lt;dbl&gt; |\n|---|---|---|---|---|---|---|---|---|---|---|---|---|---|---|\n| 1 | 0 | 0 | 0 | 0 | 0 | 0 | 0 | 0 | 70.25098 | 0 |  41 | 46 | 0 | 0 |\n| 2 | 0 | 0 | 0 | 0 | 0 | 0 | 0 | 1 | 78.17896 | 1 |  63 | 50 | 1 | 1 |\n| 3 | 0 | 0 | 0 | 0 | 0 | 0 | 1 | 0 | 46.09198 | 1 |  57 | 82 | 1 | 0 |\n| 4 | 1 | 0 | 0 | 0 | 0 | 0 | 0 | 0 | 75.33197 | 1 |  55 | 48 | 0 | 1 |\n| 5 | 0 | 0 | 0 | 0 | 0 | 0 | 0 | 1 | 67.90997 | 0 |  65 | 72 | 1 | 1 |\n| 6 | 0 | 0 | 0 | 0 | 0 | 0 | 0 | 0 | 86.07794 | 1 | 115 | 38 | 0 | 0 |\n\n",
            "text/latex": "A data.frame: 6 × 14\n\\begin{tabular}{r|llllllllllllll}\n  & ARF & CHF & Cirr & colcan & Coma & lungcan & MOSF & sepsis & age & female & meanbp1 & aps & treatment & died\\\\\n  & <dbl> & <dbl> & <dbl> & <dbl> & <dbl> & <dbl> & <dbl> & <dbl> & <dbl> & <dbl> & <dbl> & <dbl> & <dbl> & <dbl>\\\\\n\\hline\n\t1 & 0 & 0 & 0 & 0 & 0 & 0 & 0 & 0 & 70.25098 & 0 &  41 & 46 & 0 & 0\\\\\n\t2 & 0 & 0 & 0 & 0 & 0 & 0 & 0 & 1 & 78.17896 & 1 &  63 & 50 & 1 & 1\\\\\n\t3 & 0 & 0 & 0 & 0 & 0 & 0 & 1 & 0 & 46.09198 & 1 &  57 & 82 & 1 & 0\\\\\n\t4 & 1 & 0 & 0 & 0 & 0 & 0 & 0 & 0 & 75.33197 & 1 &  55 & 48 & 0 & 1\\\\\n\t5 & 0 & 0 & 0 & 0 & 0 & 0 & 0 & 1 & 67.90997 & 0 &  65 & 72 & 1 & 1\\\\\n\t6 & 0 & 0 & 0 & 0 & 0 & 0 & 0 & 0 & 86.07794 & 1 & 115 & 38 & 0 & 0\\\\\n\\end{tabular}\n",
            "text/plain": [
              "  ARF CHF Cirr colcan Coma lungcan MOSF sepsis age      female meanbp1 aps\n",
              "1 0   0   0    0      0    0       0    0      70.25098 0       41     46 \n",
              "2 0   0   0    0      0    0       0    1      78.17896 1       63     50 \n",
              "3 0   0   0    0      0    0       1    0      46.09198 1       57     82 \n",
              "4 1   0   0    0      0    0       0    0      75.33197 1       55     48 \n",
              "5 0   0   0    0      0    0       0    1      67.90997 0       65     72 \n",
              "6 0   0   0    0      0    0       0    0      86.07794 1      115     38 \n",
              "  treatment died\n",
              "1 0         0   \n",
              "2 1         1   \n",
              "3 1         0   \n",
              "4 0         1   \n",
              "5 1         1   \n",
              "6 0         0   "
            ]
          },
          "metadata": {}
        }
      ]
    },
    {
      "cell_type": "code",
      "source": [
        "#Fit a Propensity Score Model\n",
        "psmodel <-glm(treatment ~ age + female + meanbp1 + ARF + CHF + Cirr + colcan +\n",
        "               Coma + lungcan + MOSF + sepsis, family =binomial(link=\"logit\"),data=mydata)\n",
        "\n",
        "#Calculate the propensity score for each subject\n",
        "ps <- predict(psmodel, type = \"response\")\n",
        "\n",
        "#View the first few propensity scores\n",
        "head(ps)"
      ],
      "metadata": {
        "colab": {
          "base_uri": "https://localhost:8080/",
          "height": 34
        },
        "id": "XhlFYj-dDcBM",
        "outputId": "b50702a5-17d9-4c2c-cf89-ffc942b6f2ac"
      },
      "execution_count": 67,
      "outputs": [
        {
          "output_type": "display_data",
          "data": {
            "text/html": [
              "<style>\n",
              ".dl-inline {width: auto; margin:0; padding: 0}\n",
              ".dl-inline>dt, .dl-inline>dd {float: none; width: auto; display: inline-block}\n",
              ".dl-inline>dt::after {content: \":\\0020\"; padding-right: .5ex}\n",
              ".dl-inline>dt:not(:first-of-type) {padding-left: .5ex}\n",
              "</style><dl class=dl-inline><dt>1</dt><dd>0.197713159040923</dd><dt>2</dt><dd>0.55142638705928</dd><dt>3</dt><dd>0.409579786166645</dd><dt>4</dt><dd>0.390089021611512</dd><dt>5</dt><dd>0.595434756131418</dd><dt>6</dt><dd>0.0807061502147722</dd></dl>\n"
            ],
            "text/markdown": "1\n:   0.1977131590409232\n:   0.551426387059283\n:   0.4095797861666454\n:   0.3900890216115125\n:   0.5954347561314186\n:   0.0807061502147722\n\n",
            "text/latex": "\\begin{description*}\n\\item[1] 0.197713159040923\n\\item[2] 0.55142638705928\n\\item[3] 0.409579786166645\n\\item[4] 0.390089021611512\n\\item[5] 0.595434756131418\n\\item[6] 0.0807061502147722\n\\end{description*}\n",
            "text/plain": [
              "         1          2          3          4          5          6 \n",
              "0.19771316 0.55142639 0.40957979 0.39008902 0.59543476 0.08070615 "
            ]
          },
          "metadata": {}
        }
      ]
    },
    {
      "cell_type": "markdown",
      "source": [
        "#Create Weights:\n",
        "```\n",
        "ifelse(mydata$treatment == 1, 1 / ps, 1 / (1 - ps))\n",
        "```\n",
        "calculates the inverse probability weights:\n",
        "* For treated subjects (treatment == 1), the weight is 1 / ps.\n",
        "* For untreated subjects (treatment == 0), the weight is 1 / (1 - ps).\n",
        "\n",
        "#Apply Weights to Data:\n",
        "\n",
        "```\n",
        "svydesign(ids = ~ 1, data = mydata, weights = ~ weight)\n",
        "```\n",
        " creates a survey design object called weighteddata that incorporates the inverse probability weights. This object is used in functions that support survey weights, like svyCreateTableOne.\n",
        "\n",
        "#Define Variables to Check Balance:\n",
        "\n",
        "xvars lists the covariates to be assessed for balance across treatment groups. You can modify this list based on the variables in your dataset.\n",
        "\n",
        "#Create Weighted Table 1:\n",
        "```\n",
        "svyCreateTableOne(vars = xvars, strata = \"treatment\", data = weighteddata, test = FALSE)\n",
        "```\n",
        "generates a table that summarizes covariate balance between treatment groups, using the weights to adjust for differences. strata = \"treatment\" specifies that the table should be stratified by the treatment variable.\n",
        "\n",
        "#Print Table with Standardized Mean Differences (SMD):\n",
        "```\n",
        "print(weightedtable, smd = TRUE)\n",
        "```\n",
        "displays the table with standardized mean differences (SMD) for each covariate. SMD values close to 0 indicate better balance across treatment groups, while larger values suggest imbalance."
      ],
      "metadata": {
        "id": "DHen-iblIwzQ"
      }
    },
    {
      "cell_type": "code",
      "source": [
        "#Create weights\n",
        "weight <- ifelse(mydata$treatment==1,1/ps,1/(1-ps))\n",
        "\n",
        "#Apply weights to the data\n",
        "weightdata <- svydesign(ids = ~1, data = mydata, weight = ~weight)\n",
        "\n",
        "# Define variables you want to include in the balance check\n",
        "xvars <- c(\"age\", \"female\", \"meanbp1\", \"ARF\", \"CHF\", \"Cirr\", \"colcan\",\n",
        "           \"Coma\", \"lungcan\", \"MOSF\", \"sepsis\")\n",
        "\n",
        "# Stratify by treatment and generate standardized mean differences (SMD)\n",
        "weightedtable <-svyCreateTableOne(vars = xvars, strata = \"treatment\", data = weightdata, test = FALSE)\n",
        "\n",
        "# Show table with standardized mean differences (SMD)\n",
        "print(weightedtable, smd=TRUE)\n"
      ],
      "metadata": {
        "colab": {
          "base_uri": "https://localhost:8080/",
          "height": 0
        },
        "id": "4ZNsn0BeIkOi",
        "outputId": "6fb8b097-70d7-4626-f809-9101e020a866"
      },
      "execution_count": 68,
      "outputs": [
        {
          "output_type": "stream",
          "name": "stdout",
          "text": [
            "                     Stratified by treatment\n",
            "                      0               1               SMD   \n",
            "  n                   5732.49         5744.88               \n",
            "  age (mean (SD))       61.36 (17.56)   61.43 (15.33)  0.004\n",
            "  female (mean (SD))     0.45 (0.50)     0.45 (0.50)   0.001\n",
            "  meanbp1 (mean (SD))   78.60 (37.58)   79.26 (40.31)  0.017\n",
            "  ARF (mean (SD))        0.44 (0.50)     0.44 (0.50)   0.010\n",
            "  CHF (mean (SD))        0.08 (0.27)     0.08 (0.27)   0.005\n",
            "  Cirr (mean (SD))       0.04 (0.19)     0.04 (0.19)   0.001\n",
            "  colcan (mean (SD))     0.00 (0.04)     0.00 (0.06)   0.042\n",
            "  Coma (mean (SD))       0.08 (0.26)     0.07 (0.25)   0.023\n",
            "  lungcan (mean (SD))    0.01 (0.08)     0.01 (0.09)   0.014\n",
            "  MOSF (mean (SD))       0.07 (0.26)     0.07 (0.26)   0.004\n",
            "  sepsis (mean (SD))     0.21 (0.41)     0.22 (0.41)   0.002\n"
          ]
        }
      ]
    },
    {
      "cell_type": "code",
      "source": [
        "#Calculate weighted mean\n",
        "mean(weight[treatment==1]*age[treatment==1])/(mean(weight[treatment==1]))"
      ],
      "metadata": {
        "colab": {
          "base_uri": "https://localhost:8080/",
          "height": 34
        },
        "id": "kIKAZIdqJr5n",
        "outputId": "35a92fde-bc2c-4198-b3d5-e108485a7812"
      },
      "execution_count": 69,
      "outputs": [
        {
          "output_type": "display_data",
          "data": {
            "text/html": [
              "61.4293345917344"
            ],
            "text/markdown": "61.4293345917344",
            "text/latex": "61.4293345917344",
            "text/plain": [
              "[1] 61.42933"
            ]
          },
          "metadata": {}
        }
      ]
    },
    {
      "cell_type": "markdown",
      "source": [
        "# Fitting the MSM and obtain Relative Risk\n",
        "\n",
        "###Robust Variance (Sandwich Estimator) for Weighted Data?\n",
        "\n",
        "When using Inverse Probability of Treatment Weights (IPTW) or other types of weights in causal inference, it is important to account for the variability introduced by these weights to obtain valid statistical inference. Standard variance calculations assume that observations are independent and identically distributed (i.i.d.), which doesn’t hold with weighted data. Weights can lead to increased variability because they artificially adjust the sample to represent a population structure.\n",
        "\n",
        "By using robust variance estimation (also known as the sandwich estimator), we account for this extra variability introduced by weighting. The robust variance estimator corrects standard errors, making them more accurate for inference. This is particularly critical in causal inference, where:"
      ],
      "metadata": {
        "id": "BsR3ihvlQMwh"
      }
    },
    {
      "cell_type": "code",
      "source": [
        "# Step 1: Fit a weighted GLM with a log link to estimate relative risk\n",
        "glm.obj <- glm(died ~ treatment, weights = weight, data = mydata, family = binomial(link = \"log\"))\n",
        "\n",
        "# Step 2: Display a summary of the model (optional)\n",
        "summary(glm.obj)\n",
        "\n",
        "# Step 3: Extract coefficients\n",
        "betas <- coef(glm.obj)\n",
        "\n",
        "# Step 4:  Calculate the robust (sandwich) standard errors\n",
        "robust_se <- sqrt(diag(vcovHC(glm.obj, type = \"HC0\")))\n",
        "\n",
        "# Step 5: Calculate point estimate and confidence interval for the relative risk\n",
        "causal_rr <- exp(betas[\"treatment\"])\n",
        "\n",
        "# Calculate lower and upper confidence limits by exponentiating (beta ± 1.96 * SE)\n",
        "lcl <- exp(betas['treatment'] - 1.96 * robust_se[\"treatment\"])\n",
        "ucl <- exp(betas['treatment'] + 1.96 * robust_se['treatment'])\n",
        "\n",
        "# Improved output with labeled results\n",
        "result <- c(\"Relative Risk\" = causal_rr,\n",
        "            \"Lower 95% CI\" = lcl,\n",
        "            \"Upper 95% CI\" = ucl)\n",
        "\n",
        "# Display the result\n",
        "result\n"
      ],
      "metadata": {
        "colab": {
          "base_uri": "https://localhost:8080/",
          "height": 422
        },
        "id": "cyIg7B2iPJfz",
        "outputId": "a34b0e5f-65a4-4587-b663-c5f68d3db9d6"
      },
      "execution_count": 70,
      "outputs": [
        {
          "output_type": "stream",
          "name": "stderr",
          "text": [
            "Warning message in eval(family$initialize):\n",
            "“non-integer #successes in a binomial glm!”\n"
          ]
        },
        {
          "output_type": "display_data",
          "data": {
            "text/plain": [
              "\n",
              "Call:\n",
              "glm(formula = died ~ treatment, family = binomial(link = \"log\"), \n",
              "    data = mydata, weights = weight)\n",
              "\n",
              "Coefficients:\n",
              "            Estimate Std. Error z value Pr(>|z|)    \n",
              "(Intercept) -0.46130    0.01011 -45.620  < 2e-16 ***\n",
              "treatment    0.07859    0.01354   5.803  6.5e-09 ***\n",
              "---\n",
              "Signif. codes:  0 ‘***’ 0.001 ‘**’ 0.01 ‘*’ 0.05 ‘.’ 0.1 ‘ ’ 1\n",
              "\n",
              "(Dispersion parameter for binomial family taken to be 1)\n",
              "\n",
              "    Null deviance: 14771  on 5734  degrees of freedom\n",
              "Residual deviance: 14737  on 5733  degrees of freedom\n",
              "AIC: 14740\n",
              "\n",
              "Number of Fisher Scoring iterations: 5\n"
            ]
          },
          "metadata": {}
        },
        {
          "output_type": "display_data",
          "data": {
            "text/html": [
              "<style>\n",
              ".dl-inline {width: auto; margin:0; padding: 0}\n",
              ".dl-inline>dt, .dl-inline>dd {float: none; width: auto; display: inline-block}\n",
              ".dl-inline>dt::after {content: \":\\0020\"; padding-right: .5ex}\n",
              ".dl-inline>dt:not(:first-of-type) {padding-left: .5ex}\n",
              "</style><dl class=dl-inline><dt>Relative Risk.treatment</dt><dd>1.08176443635869</dd><dt>Lower 95% CI.treatment</dt><dd>1.0366976352248</dd><dt>Upper 95% CI.treatment</dt><dd>1.12879035893304</dd></dl>\n"
            ],
            "text/markdown": "Relative Risk.treatment\n:   1.08176443635869Lower 95% CI.treatment\n:   1.0366976352248Upper 95% CI.treatment\n:   1.12879035893304\n\n",
            "text/latex": "\\begin{description*}\n\\item[Relative Risk.treatment] 1.08176443635869\n\\item[Lower 95\\textbackslash{}\\% CI.treatment] 1.0366976352248\n\\item[Upper 95\\textbackslash{}\\% CI.treatment] 1.12879035893304\n\\end{description*}\n",
            "text/plain": [
              "Relative Risk.treatment  Lower 95% CI.treatment  Upper 95% CI.treatment \n",
              "               1.081764                1.036698                1.128790 "
            ]
          },
          "metadata": {}
        }
      ]
    },
    {
      "cell_type": "markdown",
      "source": [
        "# Risk Difference"
      ],
      "metadata": {
        "id": "7TIIzZrNWRCZ"
      }
    },
    {
      "cell_type": "code",
      "source": [
        "glm.obj <-glm(died~treatment, weights=weight,family=binomial(link=\"identity\"))\n",
        "\n",
        "beta<-coef(glm.obj)\n",
        "SE<-sqrt(diag(vcovHC(glm.obj, type = \"HC0\")))\n",
        "\n",
        "causalrd<-beta[2]\n",
        "lcl <- causalrd - 1.96*SE[2]\n",
        "ucl <- causalrd - 1.96*SE[2]\n",
        "c(lcl, causalrd, ucl)"
      ],
      "metadata": {
        "colab": {
          "base_uri": "https://localhost:8080/",
          "height": 71
        },
        "id": "Fnv6Zwh6WjtO",
        "outputId": "aea30c5b-7568-4171-c29f-2878b65e60c8"
      },
      "execution_count": 71,
      "outputs": [
        {
          "output_type": "stream",
          "name": "stderr",
          "text": [
            "Warning message in eval(family$initialize):\n",
            "“non-integer #successes in a binomial glm!”\n"
          ]
        },
        {
          "output_type": "display_data",
          "data": {
            "text/html": [
              "<style>\n",
              ".dl-inline {width: auto; margin:0; padding: 0}\n",
              ".dl-inline>dt, .dl-inline>dd {float: none; width: auto; display: inline-block}\n",
              ".dl-inline>dt::after {content: \":\\0020\"; padding-right: .5ex}\n",
              ".dl-inline>dt:not(:first-of-type) {padding-left: .5ex}\n",
              "</style><dl class=dl-inline><dt>treatment</dt><dd>0.0233322339777715</dd><dt>treatment</dt><dd>0.0515495132584546</dd><dt>treatment</dt><dd>0.0233322339777715</dd></dl>\n"
            ],
            "text/markdown": "treatment\n:   0.0233322339777715treatment\n:   0.0515495132584546treatment\n:   0.0233322339777715\n\n",
            "text/latex": "\\begin{description*}\n\\item[treatment] 0.0233322339777715\n\\item[treatment] 0.0515495132584546\n\\item[treatment] 0.0233322339777715\n\\end{description*}\n",
            "text/plain": [
              " treatment  treatment  treatment \n",
              "0.02333223 0.05154951 0.02333223 "
            ]
          },
          "metadata": {}
        }
      ]
    },
    {
      "cell_type": "markdown",
      "source": [
        "# Doing the samething using IPW Package\n",
        "\n",
        "The IPW package simplifies the process of generating weights, which can then be used in marginal structural models (MSMs) or other causal inference analyses.\n",
        "\n",
        "Inverse Probability Weights (IPW): The ipwpoint function estimates weights based on the probability of receiving treatment given the covariates (the propensity score). These weights adjust for confounding by creating a \"pseudo-population\" where treatment assignment is independent of covariates.\n",
        "\n",
        "Weight Summary: The summary statistics help assess the range and distribution of the weights. Extremely high weights can indicate that some observations have a very low probability of receiving the observed treatment, which may lead to high variance and instability in the analysis.\n",
        "\n",
        "Weight Plot: Plotting the weights helps identify if there are extreme weights. If extreme weights are observed, you might consider truncating weights or using stabilized weights to improve model stability."
      ],
      "metadata": {
        "id": "2AfG8mZQbKy2"
      }
    },
    {
      "cell_type": "code",
      "source": [
        "#Fit the Weight Model\n",
        "\n",
        "weightmodel <- ipwpoint(exposure = treatment,\n",
        "                        family = \"binomial\",\n",
        "                        link = \"logit\",\n",
        "                        denominator = ~ age + female + meanbp1 + ARF + CHF + Cirr +\n",
        "                                      colcan + Coma + lungcan + MOSF + sepsis,\n",
        "                        data = mydata)\n"
      ],
      "metadata": {
        "id": "Gfib59E_bKb4"
      },
      "execution_count": 72,
      "outputs": []
    },
    {
      "cell_type": "code",
      "source": [
        "# Numeric summary of the generated weights\n",
        "summary(weightmodel$ipw.weights)\n"
      ],
      "metadata": {
        "colab": {
          "base_uri": "https://localhost:8080/",
          "height": 54
        },
        "id": "5LXyaC41cE3m",
        "outputId": "a696b678-d878-4bbe-977f-714efe293150"
      },
      "execution_count": 73,
      "outputs": [
        {
          "output_type": "display_data",
          "data": {
            "text/plain": [
              "   Min. 1st Qu.  Median    Mean 3rd Qu.    Max. \n",
              "  1.046   1.405   1.721   2.001   2.280  21.606 "
            ]
          },
          "metadata": {}
        }
      ]
    },
    {
      "cell_type": "code",
      "source": [
        "# Plot the distribution of weights\n",
        "ipwplot(weights = weightmodel$ipw.weights, logscale = FALSE,\n",
        "        main = \"Weights\", xlim = c(0, 22))\n"
      ],
      "metadata": {
        "colab": {
          "base_uri": "https://localhost:8080/",
          "height": 437
        },
        "id": "JpT4FwaZcxeU",
        "outputId": "235a2d55-3114-4b3a-8d3f-22d9f700df62"
      },
      "execution_count": 74,
      "outputs": [
        {
          "output_type": "display_data",
          "data": {
            "text/plain": [
              "Plot with title “Weights”"
            ],
            "image/png": "[encoded data removed]"
          },
          "metadata": {
            "image/png": {
              "width": 420,
              "height": 420
            }
          }
        }
      ]
    },
    {
      "cell_type": "markdown",
      "source": [
        "#Using svyglm in Survey Package\n",
        "Here, the svyglm function from the survey package is used with a custom survey design that incorporates the weights."
      ],
      "metadata": {
        "id": "tQOCJw6zfWhB"
      }
    },
    {
      "cell_type": "code",
      "source": [
        "# Ensure the survey package is loaded\n",
        "library(survey)\n",
        "\n",
        "# Step 1: Define a survey design object with IPW weights\n",
        "# - '~ 1' specifies that there are no clusters (independent sampling)\n",
        "# - 'weights = ~ wt' uses the weights column to account for the IPW\n",
        "design <- svydesign(~ 1, weights = ~ weight, data = mydata)\n",
        "\n",
        "# Step 2: Fit the marginal structural model (risk difference)\n",
        "# This model estimates the causal risk difference for the treatment effect on death\n",
        "msm <- svyglm(died ~ treatment, design = design, family = quasibinomial(link = \"identity\"))\n",
        "\n",
        "# Step 3: View coefficients\n",
        "coef(msm)\n",
        "\n",
        "# Step 4: Get confidence intervals for the estimated parameters\n",
        "confint(msm)\n"
      ],
      "metadata": {
        "colab": {
          "base_uri": "https://localhost:8080/",
          "height": 147
        },
        "id": "-7xtIMe8ddT9",
        "outputId": "365fad5d-99d3-4769-b47b-15bbd53da6df"
      },
      "execution_count": 75,
      "outputs": [
        {
          "output_type": "display_data",
          "data": {
            "text/html": [
              "<style>\n",
              ".dl-inline {width: auto; margin:0; padding: 0}\n",
              ".dl-inline>dt, .dl-inline>dd {float: none; width: auto; display: inline-block}\n",
              ".dl-inline>dt::after {content: \":\\0020\"; padding-right: .5ex}\n",
              ".dl-inline>dt:not(:first-of-type) {padding-left: .5ex}\n",
              "</style><dl class=dl-inline><dt>(Intercept)</dt><dd>0.630463751130618</dd><dt>treatment</dt><dd>0.0515495132584546</dd></dl>\n"
            ],
            "text/markdown": "(Intercept)\n:   0.630463751130618treatment\n:   0.0515495132584546\n\n",
            "text/latex": "\\begin{description*}\n\\item[(Intercept)] 0.630463751130618\n\\item[treatment] 0.0515495132584546\n\\end{description*}\n",
            "text/plain": [
              "(Intercept)   treatment \n",
              " 0.63046375  0.05154951 "
            ]
          },
          "metadata": {}
        },
        {
          "output_type": "display_data",
          "data": {
            "text/html": [
              "<table class=\"dataframe\">\n",
              "<caption>A matrix: 2 × 2 of type dbl</caption>\n",
              "<thead>\n",
              "\t<tr><th></th><th scope=col>2.5 %</th><th scope=col>97.5 %</th></tr>\n",
              "</thead>\n",
              "<tbody>\n",
              "\t<tr><th scope=row>(Intercept)</th><td>0.61401097</td><td>0.64691653</td></tr>\n",
              "\t<tr><th scope=row>treatment</th><td>0.02332433</td><td>0.07977469</td></tr>\n",
              "</tbody>\n",
              "</table>\n"
            ],
            "text/markdown": "\nA matrix: 2 × 2 of type dbl\n\n| <!--/--> | 2.5 % | 97.5 % |\n|---|---|---|\n| (Intercept) | 0.61401097 | 0.64691653 |\n| treatment | 0.02332433 | 0.07977469 |\n\n",
            "text/latex": "A matrix: 2 × 2 of type dbl\n\\begin{tabular}{r|ll}\n  & 2.5 \\% & 97.5 \\%\\\\\n\\hline\n\t(Intercept) & 0.61401097 & 0.64691653\\\\\n\ttreatment & 0.02332433 & 0.07977469\\\\\n\\end{tabular}\n",
            "text/plain": [
              "            2.5 %      97.5 %    \n",
              "(Intercept) 0.61401097 0.64691653\n",
              "treatment   0.02332433 0.07977469"
            ]
          },
          "metadata": {}
        }
      ]
    },
    {
      "cell_type": "markdown",
      "source": [
        "#Truncate Weights\n",
        "\n",
        "## Method 1: Manually Truncate Weights\n",
        "The replace function can be used to set a maximum cap on the weights. In this case, weights above 10 will be truncated to 10.\n"
      ],
      "metadata": {
        "id": "nEXNYKtnftJQ"
      }
    },
    {
      "cell_type": "code",
      "source": [
        "## Manually truncate weights at 10\n",
        "truncweight <- replace(weight, weight > 10, 10)\n",
        "\n",
        "# Fit a GLM with truncated weights to estimate the causal risk difference\n",
        "glm.obj <- glm(died ~ treatment, weights = truncweight, data = mydata,\n",
        "               family = binomial(link = \"identity\"))\n",
        "\n",
        "# Display the results\n",
        "summary(glm.obj)\n"
      ],
      "metadata": {
        "colab": {
          "base_uri": "https://localhost:8080/",
          "height": 405
        },
        "id": "7wNWDMgVf0JI",
        "outputId": "d7c9a968-e8df-496b-8e33-d816a7775e39"
      },
      "execution_count": 76,
      "outputs": [
        {
          "output_type": "stream",
          "name": "stderr",
          "text": [
            "Warning message in eval(family$initialize):\n",
            "“non-integer #successes in a binomial glm!”\n"
          ]
        },
        {
          "output_type": "display_data",
          "data": {
            "text/plain": [
              "\n",
              "Call:\n",
              "glm(formula = died ~ treatment, family = binomial(link = \"identity\"), \n",
              "    data = mydata, weights = truncweight)\n",
              "\n",
              "Coefficients:\n",
              "            Estimate Std. Error z value Pr(>|z|)    \n",
              "(Intercept) 0.630464   0.006375  98.895  < 2e-16 ***\n",
              "treatment   0.054932   0.008863   6.198 5.72e-10 ***\n",
              "---\n",
              "Signif. codes:  0 ‘***’ 0.001 ‘**’ 0.01 ‘*’ 0.05 ‘.’ 0.1 ‘ ’ 1\n",
              "\n",
              "(Dispersion parameter for binomial family taken to be 1)\n",
              "\n",
              "    Null deviance: 14675  on 5734  degrees of freedom\n",
              "Residual deviance: 14637  on 5733  degrees of freedom\n",
              "AIC: 14635\n",
              "\n",
              "Number of Fisher Scoring iterations: 3\n"
            ]
          },
          "metadata": {}
        }
      ]
    },
    {
      "cell_type": "markdown",
      "source": [
        "## Method 2: Truncate Weights Using the IPW Package\n",
        "\n",
        "The IPW package allows you to specify truncation directly when calculating weights using ipwpoint.\n"
      ],
      "metadata": {
        "id": "blvnVRtTf-jv"
      }
    },
    {
      "cell_type": "code",
      "source": [
        "# Load the IPW package if not already installed\n",
        "if (!requireNamespace(\"ipw\", quietly = TRUE)) install.packages(\"IPW\")\n",
        "library(ipw)\n",
        "\n",
        "# Step 1: Fit the IPW model with truncation at the 1st and 99th percentiles\n",
        "weightmodel <- ipwpoint(exposure = treatment,\n",
        "                        family = \"binomial\",\n",
        "                        link = \"logit\",\n",
        "                        denominator = ~ age + female + meanbp1 + ARF + CHF + Cirr +\n",
        "                                      colcan + Coma + lungcan + MOSF + sepsis,\n",
        "                        data = mydata,\n",
        "                        trunc = 0.01)  # Truncates weights at the 1st and 99th percentiles\n",
        "\n",
        "# Step 2: Summary of truncated weights\n",
        "summary(weightmodel$weights.trun)\n",
        "\n",
        "# Step 3: Plot the distribution of truncated weights\n",
        "ipwplot(weights = weightmodel$weights.trun, logscale = FALSE,\n",
        "        main = \"Truncated Weights\", xlim = c(0, 22))\n",
        "\n",
        "# Step 4: Save the truncated weights to `mydata`\n",
        "mydata$truncweight <- weightmodel$weights.trun\n",
        "\n",
        "# Step 5: Fit a marginal structural model (MSM) with truncated weights for risk difference\n",
        "# Define the survey design object using truncated weights\n",
        "design <- svydesign(~ 1, weights = ~ truncweight, data = mydata)\n",
        "\n",
        "# Fit the MSM using svyglm with identity link for risk difference\n",
        "msm <- svyglm(died ~ treatment, design = design)\n",
        "\n",
        "# View the coefficients and confidence intervals\n",
        "coef(msm)\n",
        "confint(msm)\n"
      ],
      "metadata": {
        "colab": {
          "base_uri": "https://localhost:8080/",
          "height": 604
        },
        "id": "S8GFHszagHZa",
        "outputId": "5e6c40bf-9ca1-47a2-9aac-83e155bbbafc"
      },
      "execution_count": 77,
      "outputs": [
        {
          "output_type": "display_data",
          "data": {
            "text/plain": [
              "   Min. 1st Qu.  Median    Mean 3rd Qu.    Max. \n",
              "  1.081   1.405   1.721   1.972   2.280   6.379 "
            ]
          },
          "metadata": {}
        },
        {
          "output_type": "display_data",
          "data": {
            "text/html": [
              "<style>\n",
              ".dl-inline {width: auto; margin:0; padding: 0}\n",
              ".dl-inline>dt, .dl-inline>dd {float: none; width: auto; display: inline-block}\n",
              ".dl-inline>dt::after {content: \":\\0020\"; padding-right: .5ex}\n",
              ".dl-inline>dt:not(:first-of-type) {padding-left: .5ex}\n",
              "</style><dl class=dl-inline><dt>(Intercept)</dt><dd>0.630455326169872</dd><dt>treatment</dt><dd>0.0549486491446014</dd></dl>\n"
            ],
            "text/markdown": "(Intercept)\n:   0.630455326169872treatment\n:   0.0549486491446014\n\n",
            "text/latex": "\\begin{description*}\n\\item[(Intercept)] 0.630455326169872\n\\item[treatment] 0.0549486491446014\n\\end{description*}\n",
            "text/plain": [
              "(Intercept)   treatment \n",
              " 0.63045533  0.05494865 "
            ]
          },
          "metadata": {}
        },
        {
          "output_type": "display_data",
          "data": {
            "text/html": [
              "<table class=\"dataframe\">\n",
              "<caption>A matrix: 2 × 2 of type dbl</caption>\n",
              "<thead>\n",
              "\t<tr><th></th><th scope=col>2.5 %</th><th scope=col>97.5 %</th></tr>\n",
              "</thead>\n",
              "<tbody>\n",
              "\t<tr><th scope=row>(Intercept)</th><td>0.61400312</td><td>0.64690753</td></tr>\n",
              "\t<tr><th scope=row>treatment</th><td>0.02822366</td><td>0.08167363</td></tr>\n",
              "</tbody>\n",
              "</table>\n"
            ],
            "text/markdown": "\nA matrix: 2 × 2 of type dbl\n\n| <!--/--> | 2.5 % | 97.5 % |\n|---|---|---|\n| (Intercept) | 0.61400312 | 0.64690753 |\n| treatment | 0.02822366 | 0.08167363 |\n\n",
            "text/latex": "A matrix: 2 × 2 of type dbl\n\\begin{tabular}{r|ll}\n  & 2.5 \\% & 97.5 \\%\\\\\n\\hline\n\t(Intercept) & 0.61400312 & 0.64690753\\\\\n\ttreatment & 0.02822366 & 0.08167363\\\\\n\\end{tabular}\n",
            "text/plain": [
              "            2.5 %      97.5 %    \n",
              "(Intercept) 0.61400312 0.64690753\n",
              "treatment   0.02822366 0.08167363"
            ]
          },
          "metadata": {}
        },
        {
          "output_type": "display_data",
          "data": {
            "text/plain": [
              "Plot with title “Truncated Weights”"
            ],
            "image/png": "[encoded data removed]"
          },
          "metadata": {
            "image/png": {
              "width": 420,
              "height": 420
            }
          }
        }
      ]
    }
  ]
}